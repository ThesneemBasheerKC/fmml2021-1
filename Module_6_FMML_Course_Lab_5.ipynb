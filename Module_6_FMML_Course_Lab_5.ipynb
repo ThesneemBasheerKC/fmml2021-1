{
  "nbformat": 4,
  "nbformat_minor": 0,
  "metadata": {
    "colab": {
      "name": "FMML Course: Lab 5.ipynb",
      "provenance": [],
      "collapsed_sections": [],
      "toc_visible": true,
      "include_colab_link": true
    },
    "kernelspec": {
      "name": "python3",
      "display_name": "Python 3"
    }
  },
  "cells": [
    {
      "cell_type": "markdown",
      "metadata": {
        "id": "view-in-github",
        "colab_type": "text"
      },
      "source": [
        "<a href=\"https://colab.research.google.com/github/Fathimath-Rifna-VK/fmml2021/blob/main/Module_6_FMML_Course_Lab_5.ipynb\" target=\"_parent\"><img src=\"https://colab.research.google.com/assets/colab-badge.svg\" alt=\"Open In Colab\"/></a>"
      ]
    },
    {
      "cell_type": "markdown",
      "metadata": {
        "id": "k4JkGXCJRql4"
      },
      "source": [
        "# Bayesian Machine Learning: Lab 5 - Modelling Complex Phenomena"
      ]
    },
    {
      "cell_type": "markdown",
      "metadata": {
        "id": "ORZI2azU2M7E"
      },
      "source": [
        "<table class=\"tfo-notebook-buttons\" align=\"left\">\n",
        "  <td>\n",
        "    <a target=\"_blank\" href=\"https://colab.research.google.com/drive/13VIe5oX_zrmYQl9OmfQ_bZIQmwujMcfA?usp=sharing\"><img height=\"32px\" src=\"https://colab.research.google.com/img/colab_favicon.ico\" />Run in Google Colab</a>\n",
        "  </td>\n",
        "  <td>\n",
        "    <a target=\"_blank\" href=\"https://github.com/Foundations-in-Modern-Machine-Learning/course-contents/tree/main/Bayesian/\"><img src=\"https://www.tensorflow.org/images/GitHub-Mark-32px.png\" />View source on GitHub</a>\n",
        "  </td>\n",
        "</table>\n",
        "<br>\n",
        "<br>\n",
        "<br>"
      ]
    },
    {
      "cell_type": "code",
      "metadata": {
        "id": "Aka0Lm7GRyZ_"
      },
      "source": [
        "import numpy as np\n",
        "import pandas as pd\n",
        "\n",
        "import tensorflow as tf\n",
        "import tensorflow_probability as tfp\n",
        "\n",
        "import seaborn as sns\n",
        "from matplotlib import pyplot as plt\n",
        "import plotly.express as px\n",
        "import plotly.graph_objects as pg"
      ],
      "execution_count": null,
      "outputs": []
    },
    {
      "cell_type": "code",
      "metadata": {
        "id": "lyrrJ3a7bwZO"
      },
      "source": [
        "plt.style.use(\"ggplot\")"
      ],
      "execution_count": null,
      "outputs": []
    },
    {
      "cell_type": "markdown",
      "metadata": {
        "id": "JrRddMMfHHKJ"
      },
      "source": [
        " \n",
        "# Probabilistic Graphical Models\n",
        "\n"
      ]
    },
    {
      "cell_type": "markdown",
      "metadata": {
        "id": "OGKSCCAmeUKK"
      },
      "source": [
        "## Looking at the Problem\n",
        "\n",
        "Let's try to model a more interesting example, one that concerns the rate at which a user sends and receives text messages:\n",
        "\n",
        ">  You are given a series of daily text-message counts from a user of your system. The data, plotted over time, appears in the chart below. You are curious to know if the user's text-messaging habits have changed over time, either gradually or suddenly. How can you model this? (This is in fact my own text-message data. Judge my popularity as you wish.)\n"
      ]
    },
    {
      "cell_type": "code",
      "metadata": {
        "id": "cOBOnwa2IIaB"
      },
      "source": [
        "messages_sent = np.array([13, 24,  8, 24,  7, 35, 14, 11, 15, 11, 22, 22, 11, 57, 11, 19, 29,  6, 19, 12, 22, 12, 18, 72, 32,  9,  7, 13, \n",
        "                          19, 23, 27, 20,  6, 17, 13, 10, 14,  6, 16, 15,  7,  2, 15, 15, 19, 70, 49,  7, 53, 22, 21, 31, 19, 11, 18, 20,\n",
        "                          12, 35, 17, 23, 17,  4,  2, 31, 30, 13, 27,  0, 39, 37, 5, 14, 13, 22], dtype=np.float)\n",
        "days = np.arange(1, len(messages_sent) + 1, dtype=np.int)\n",
        "\n",
        "# Visualizing the Results\n",
        "fig = px.bar(x=days, y=messages_sent)\n",
        "fig.show()"
      ],
      "execution_count": null,
      "outputs": []
    },
    {
      "cell_type": "markdown",
      "metadata": {
        "id": "i-PRmpvsIZKq"
      },
      "source": [
        "## Coming up with a Probabilistic Model\n",
        "\n",
        "How can we model this?"
      ]
    },
    {
      "cell_type": "markdown",
      "metadata": {
        "id": "rfkUd3IY8vKT"
      },
      "source": [
        "### The Number of Texts in a Day"
      ]
    },
    {
      "cell_type": "markdown",
      "metadata": {
        "id": "PWst2M69fYbH"
      },
      "source": [
        "A **Poisson random variable** is a very appropriate model for this type of **count data, which lies between 0 and infinity, and has mean probability at some reasonable value, and has a long tail till infinity**. \n",
        "\n",
        "Denoting day $i$'s text-message count by $C_i$,  $ C_i \\sim \\text{Poisson}(\\lambda) $.\n",
        "\n",
        "Let's visualize this distribution and see why it's a good idea. You can see that it looks sort of like a bell curve, but skewed to have a long tail towards infinity and larger less taper towards 0. This is why we often use Poisson variables to **model natural-number valued data which can with negligible probability take a very large value, and it's most probable value is some positive natural number which is not 0**."
      ]
    },
    {
      "cell_type": "code",
      "metadata": {
        "id": "n9E3rhG2xfMg"
      },
      "source": [
        "fig, ax = plt.subplots(3, 3, figsize=(25, 12))\n",
        "ax = ax.reshape(-1)\n",
        "for idx, rate_lambda in enumerate(np.linspace(1, 10, len(ax))):\n",
        "    samples = tfp.distributions.Poisson(rate=rate_lambda).sample(1000)\n",
        "    sns.countplot(x=samples.numpy(), ax=ax[idx])\n",
        "    ax[idx].set_xlim(0, 20)\n",
        "plt.show()"
      ],
      "execution_count": null,
      "outputs": []
    },
    {
      "cell_type": "markdown",
      "metadata": {
        "id": "j69Hnfc_8z0u"
      },
      "source": [
        "### Modelling the Rate (or the Mean) of the Poisson Variable"
      ]
    },
    {
      "cell_type": "markdown",
      "metadata": {
        "id": "oTkypmI6fcY5"
      },
      "source": [
        "But now what should be the $\\lambda$ parameter?\n",
        "Let's assume we know that there might have been an event, say the start of exams, which changed the value of this parameter.\n",
        "\n",
        "How can we represent this observation mathematically? \n",
        "\n",
        "Let's assume this event, the rise in the number of messages (call it $\\tau$). The parameter $\\lambda$ suddenly jumps to a higher value. So we really have two $\\lambda$ parameters: one for the period before $\\tau$, and one for the rest of the observation period. In the literature, a sudden transition like this would be called a *switchpoint*:\n",
        " \n",
        "$$\\lambda = \n",
        "\\begin{cases} \\lambda_1  & \\text{if } t \\lt \\tau \\cr\n",
        "\\lambda_2 & \\text{if } t \\ge \\tau\n",
        "\\end{cases}\n",
        "$$\n"
      ]
    },
    {
      "cell_type": "markdown",
      "metadata": {
        "id": "HBxbhEgqDOeu"
      },
      "source": [
        "If, in reality, no sudden change occurred and indeed $\\lambda_1 = \\lambda_2$, then the $\\lambda$s posterior distributions should look about equal. We are interested in inferring the unknown $\\lambda$s. \n",
        "\n",
        "$\\lambda$ can be any positive number, we need a continuous density function over all postive reals.\n",
        "\n",
        "But recall that the exponential distribution takes a parameter of its own, so we'll need to include that parameter in our model. Let's call that parameter $\\alpha$. We need to model it too.\n",
        "\n",
        "$$\n",
        "\\begin{align}\n",
        "&\\lambda_1 \\sim \\text{Exp}( \\alpha ) \\\\\n",
        "&\\lambda_2 \\sim \\text{Exp}( \\alpha )\n",
        "\\end{align}\n",
        "$$"
      ]
    },
    {
      "cell_type": "code",
      "metadata": {
        "id": "EBzR07wV52t_"
      },
      "source": [
        "fig, ax = plt.subplots(3, 3, figsize=(25, 12))\n",
        "ax = ax.reshape(-1)\n",
        "for idx, rate_alpha in enumerate(np.linspace(1, 10, len(ax))):\n",
        "    samples = tfp.distributions.Exponential(rate=rate_alpha).sample(1000)\n",
        "    sns.histplot(x=samples.numpy(), ax=ax[idx], kde=True)\n",
        "    ax[idx].set_xlim(0, 5)\n",
        "plt.show()"
      ],
      "execution_count": null,
      "outputs": []
    },
    {
      "cell_type": "markdown",
      "metadata": {
        "id": "Ditakzr8GTCs"
      },
      "source": [
        "### Modelling the Rate (or the Mean) of the Exponential Parameter"
      ]
    },
    {
      "cell_type": "markdown",
      "metadata": {
        "id": "RU0j1qGd40C0"
      },
      "source": [
        "$\\alpha$ is called a *hyper-parameter* or *parent variable*. In literal terms, it is a parameter that influences other parameters. Our initial guess at $\\alpha$ does not influence the model too strongly, so we have some flexibility in our choice.  \n",
        "\n",
        "A good rule of thumb is to **set the exponential parameter equal to the inverse of the average of the count data**. Since we're modeling $\\lambda$ using an exponential distribution, we can use the expected value identity shown earlier to get:\n",
        "\n",
        "$$\\frac{1}{N}\\sum_{i=0}^N \\;C_i \\approx E[\\; \\lambda \\; |\\; \\alpha ] = \\frac{1}{\\alpha}$$ "
      ]
    },
    {
      "cell_type": "markdown",
      "metadata": {
        "id": "HsAm5gxOGbxX"
      },
      "source": [
        "### Modelling the Time of Event"
      ]
    },
    {
      "cell_type": "markdown",
      "metadata": {
        "id": "FQ1Dw8ygGl49"
      },
      "source": [
        "Finally, we get to model $\\tau$? Because we cannot see any pattern in the data, it's difficult to pick out a priori when $\\tau$ might have occurred. Instead, we can assign a *uniform prior belief* to every possible day. This is equivalent to saying\n",
        "$$\n",
        "\\begin{align}\n",
        "& \\tau \\sim \\text{DiscreteUniform(1,70) }\\\\\n",
        "& \\Rightarrow P( \\tau = k ) = \\frac{1}{70}\n",
        "\\end{align}\n",
        "$$\n",
        "\n",
        "For the sake of continuing our Probability function visualizations, here is one for the Uniform."
      ]
    },
    {
      "cell_type": "code",
      "metadata": {
        "id": "mbR-sb_FH_tq"
      },
      "source": [
        "fig, ax = plt.subplots(figsize=(6, 4))\n",
        "samples = tfp.distributions.Uniform(1, 70).sample(10000)\n",
        "sns.histplot(x=samples.numpy(), ax=ax, kde=True, color=\"IndianRed\")\n",
        "ax.set_xlim(0, 71)\n",
        "plt.show()"
      ],
      "execution_count": null,
      "outputs": []
    },
    {
      "cell_type": "markdown",
      "metadata": {
        "id": "R-zdXmbCJQgx"
      },
      "source": [
        "### And so we have it\n",
        "\n",
        "That was all our insighe into this problem.\n",
        "\n",
        "Maybe you feel that you couldn't have come up with it yourself.\n",
        "And that's perfectly Okay.\n",
        "\n",
        "There are multiple solutions to such a problem, it takes experience in mathematics to get good results. But once you get it, you have a lot of power in modelling and understanding very complex phenomena.\n",
        "\n",
        "This is just one solution, motivated by our knowledge of the data. Try to come up with different solutions to model this data yourself and see if things fit.\n",
        "\n",
        "Let's see if our model gives us some meaningful insight."
      ]
    },
    {
      "cell_type": "markdown",
      "metadata": {
        "id": "KG2AxcHGx7qm"
      },
      "source": [
        "![image.png](data:image/png;base64,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)"
      ]
    },
    {
      "cell_type": "markdown",
      "metadata": {
        "id": "HyXXKIQpUkBO"
      },
      "source": [
        "## Back to Solving our Problem"
      ]
    },
    {
      "cell_type": "markdown",
      "metadata": {
        "id": "mCz2BozPcYNy"
      },
      "source": [
        "### Introducing TensorFlow Probability\n",
        "\n",
        "You now define the Probabilistic model with the unknown parameters you need to find. The library, here *Tensorflow Probability*, will run experiments, match the results with the real results, and try to figure out the right values for those parameters.\n",
        "\n",
        "You **do not** need to understand the process of training, just the way to specify a probability distribution. For details on how probabilistic models can be trained, see:\n",
        "* https://www.coursera.org/learn/bayesian-methods-in-machine-learning (Course with lecture videos)\n",
        "* https://github.com/CamDavidsonPilon/Probabilistic-Programming-and-Bayesian-Methods-for-Hackers (Interactive Notebooks)\n"
      ]
    },
    {
      "cell_type": "markdown",
      "metadata": {
        "id": "gYVjgZQ3hOw-"
      },
      "source": [
        "### Specify the Joint Probability Density\n",
        "\n",
        "We'll assume the data is a consequence of the following generative model:\n",
        "\n",
        "$$\\begin{align*}\n",
        "\\lambda_{1}^{(0)} &\\sim \\text{Exponential}(\\text{rate}=\\alpha) \\\\\n",
        "\\lambda_{2}^{(0)} &\\sim \\text{Exponential}(\\text{rate}=\\alpha) \\\\\n",
        "\\tau &\\sim \\text{Uniform}[\\text{low}=0,\\text{high}=1) \\\\\n",
        "\\text{for }  i &= 1\\ldots N: \\\\\n",
        "\\lambda_i &= \\begin{cases} \\lambda_{1}^{(0)}, & \\tau > i/N \\\\ \\lambda_{2}^{(0)}, & \\text{otherwise}\\end{cases}\\\\\n",
        " X_i &\\sim \\text{Poisson}(\\text{rate}=\\lambda_i)\n",
        "\\end{align*}$$\n",
        "\n",
        "**The observable variable is $X_i$**, we need to specify it's probability as a function of $\\lambda_1$, $\\lambda_2$, $\\tau$.\n",
        "\n",
        "This is what is called the **Joint Probability Distribution**.\n"
      ]
    },
    {
      "cell_type": "code",
      "metadata": {
        "id": "YBCXrK9gj8Gx"
      },
      "source": [
        "count_data = tf.constant(messages_sent, dtype=tf.float32)\n",
        "\n",
        "def joint_log_prob(count_data, lambda_1, lambda_2, tau):\n",
        "    # Compute the rate term inside the exponential (match the mean of the real data, since exponential mean is the inverse of rate parameter)\n",
        "    alpha = (1. / tf.reduce_mean(count_data))\n",
        "\n",
        "    # Specify two exponential distributions with this rate parameter\n",
        "    rv_lambda_1 = tfp.distributions.Exponential(rate=alpha)\n",
        "    rv_lambda_2 = tfp.distributions.Exponential(rate=alpha)\n",
        "\n",
        "    # Make another random variable with a uniform distribution between 0 and 1\n",
        "    rv_tau = tfp.distributions.Uniform()\n",
        "\n",
        "    # The Lambda (parameter of poisson distribution) for each day is selected from Lambda(1) or Lambda(2), based on the value of Tau (all are random variables)\n",
        "    lambda_ = tf.gather(\n",
        "         [lambda_1, lambda_2],\n",
        "         indices=tf.cast(tau * tf.cast(tf.size(count_data), dtype=tf.float32) <= tf.cast(tf.range(tf.size(count_data)), dtype=tf.float32), dtype=tf.int32))\n",
        "    # The Observerd variable is X, that's what we just computed\n",
        "    rv_observation = tfp.distributions.Poisson(rate=lambda_)\n",
        " \n",
        "    # Return the sum of log probabilities, which is the same as log of product of probabilities, which is the joint probability of all events happening\n",
        "    return (\n",
        "         rv_lambda_1.log_prob(lambda_1)\n",
        "         + rv_lambda_2.log_prob(lambda_2)\n",
        "         + rv_tau.log_prob(tau)\n",
        "         + tf.reduce_sum(rv_observation.log_prob(count_data))\n",
        "    )\n",
        "\n",
        "def unnormalized_log_posterior(lambda1, lambda2, tau):\n",
        "    return joint_log_prob(count_data, lambda1, lambda2, tau)"
      ],
      "execution_count": null,
      "outputs": []
    },
    {
      "cell_type": "markdown",
      "metadata": {
        "id": "t7Vvrj68jsr7"
      },
      "source": [
        "Notice that the implementation is arguably very close to being a 1:1 translation of the mathematical model. The main difference is merely that once we've specified the probabilistic model, we return the sum of the log_probs."
      ]
    },
    {
      "cell_type": "markdown",
      "metadata": {
        "id": "vIxEqx9qkhWr"
      },
      "source": [
        "## Getting the Results (Estimating Parameters)"
      ]
    },
    {
      "cell_type": "markdown",
      "metadata": {
        "id": "KnyDyY8Tjyiy"
      },
      "source": [
        "### Running the Sampler\n",
        "\n",
        "**You DO NOT need to understand the following code**.\n",
        "It's mostly template code that you will keep copy-pasting. You can find it in the documentation for Tensorflow Probability.\n",
        "\n",
        "Ignore this section on your first read. Later, come back and try to get a general idea of what is going on. A technique called Hamiltonian Monte Carlo (HMC) is being used to train the model, which is sort of doing the same work that we have done in previous lessons with Expectation Maximization (EM)."
      ]
    },
    {
      "cell_type": "code",
      "metadata": {
        "id": "zy6DFZgPEXyU"
      },
      "source": [
        "# wrap the mcmc sampling call in a @tf.function to speed it up\n",
        "@tf.function(autograph=False)\n",
        "def graph_sample_chain(*args, **kwargs):\n",
        "  return tfp.mcmc.sample_chain(*args, **kwargs)\n",
        "\n",
        "num_burnin_steps = 5000  # Initially, our model will not have converged, number of steps to wait before we start taking samples.\n",
        "num_results = 20000  # Number of samples we want to take from our distributions\n",
        "\n",
        "\n",
        "# Set the chain's start state.\n",
        "initial_chain_state = [\n",
        "    tf.cast(tf.reduce_mean(count_data), tf.float32) * tf.ones([], dtype=tf.float32, name=\"init_lambda1\"),\n",
        "    tf.cast(tf.reduce_mean(count_data), tf.float32) * tf.ones([], dtype=tf.float32, name=\"init_lambda2\"),\n",
        "    0.5 * tf.ones([], dtype=tf.float32, name=\"init_tau\"),\n",
        "]\n",
        "\n",
        "# Since HMC operates over unconstrained space, we need to transform the\n",
        "# samples so they live in real-space.\n",
        "unconstraining_bijectors = [\n",
        "    tfp.bijectors.Exp(),       # Maps a positive real to R.\n",
        "    tfp.bijectors.Exp(),       # Maps a positive real to R.\n",
        "    tfp.bijectors.Sigmoid(),   # Maps [0,1] to R.  \n",
        "]\n",
        "\n",
        "step_size = 0.2\n",
        "\n",
        "kernel=tfp.mcmc.TransformedTransitionKernel(\n",
        "        inner_kernel=tfp.mcmc.HamiltonianMonteCarlo(\n",
        "            target_log_prob_fn=unnormalized_log_posterior,\n",
        "            num_leapfrog_steps=2,\n",
        "            step_size=step_size,\n",
        "            state_gradients_are_stopped=True),\n",
        "        bijector=unconstraining_bijectors)\n",
        "\n",
        "kernel = tfp.mcmc.SimpleStepSizeAdaptation(\n",
        "    inner_kernel=kernel, num_adaptation_steps=int(num_burnin_steps * 0.8))\n",
        "\n",
        "\n",
        "# Sample from the chain.\n",
        "[\n",
        "    lambda_1_samples,\n",
        "    lambda_2_samples,\n",
        "    posterior_tau,\n",
        "], kernel_results = graph_sample_chain(\n",
        "    num_results=num_results,\n",
        "    num_burnin_steps=num_burnin_steps,\n",
        "    current_state=initial_chain_state,\n",
        "    kernel = kernel)\n",
        "    \n",
        "tau_samples = tf.floor(posterior_tau * tf.cast(tf.size(count_data),dtype=tf.float32))"
      ],
      "execution_count": null,
      "outputs": []
    },
    {
      "cell_type": "code",
      "metadata": {
        "id": "NpNv545ZkLjb"
      },
      "source": [
        "print(\"acceptance rate: {}\".format(\n",
        "    tf.reduce_mean(tf.cast(kernel_results.inner_results.inner_results.is_accepted,dtype=tf.float32))))\n",
        "print(\"final step size: {}\".format(\n",
        "    tf.reduce_mean(kernel_results.inner_results.inner_results.accepted_results.step_size[-100:])))\n"
      ],
      "execution_count": null,
      "outputs": []
    },
    {
      "cell_type": "markdown",
      "metadata": {
        "id": "2-pzCAIDLc6J"
      },
      "source": [
        "The thing to note here is that if acceptance rate is too low, less than 50%, then we failed to draw enough samples after the distribution finished training and converged.\n",
        "\n",
        "If the final step size is too high, then our model has not converged, if it's too low, it might have gotten a little stuck.\n",
        "\n",
        "Right now, it seems like we are in a sweet spot. You can change the number of samples your draw and the number of burning steps to fix these issues in case they arrive. Sometimes they are not fixable if your model is too complex."
      ]
    },
    {
      "cell_type": "markdown",
      "metadata": {
        "id": "lCRDd3GMd-6i"
      },
      "source": [
        "### Plotting the Parameter Values"
      ]
    },
    {
      "cell_type": "markdown",
      "metadata": {
        "id": "6JfM-5hzMBL6"
      },
      "source": [
        "We have worked on getting the values of the parameters, let's plot them finall and see if everything is where we expected."
      ]
    },
    {
      "cell_type": "code",
      "metadata": {
        "id": "viLRm6DEkRPM"
      },
      "source": [
        "fig, ax = plt.subplots(3, 1, figsize=(3 * 8, 10))\n",
        "sns.histplot(lambda_1_samples.numpy(), bins=30, ax=ax[0], color=\"RoyalBlue\")\n",
        "ax[0].set_xlim([15, 30])\n",
        "ax[0].set_title(r\"$\\lambda_1$ Probability Distribution\")\n",
        "\n",
        "sns.histplot(lambda_2_samples.numpy(), bins=30, ax=ax[1], color=\"IndianRed\")\n",
        "ax[1].set_xlim([15, 30])\n",
        "ax[1].set_title(r\"$\\lambda_2$ Probability Distribution\")\n",
        "\n",
        "sns.histplot(tau_samples.numpy(), bins=len(count_data), ax=ax[2], color=\"DarkGreen\")\n",
        "ax[2].set_xticks(np.arange(len(count_data)))\n",
        "ax[2].set_xlim([35, len(count_data)-20])\n",
        "ax[2].set_title(r\"$\\tau$ Probability Distribution\")\n",
        "\n",
        "plt.show()"
      ],
      "execution_count": null,
      "outputs": []
    },
    {
      "cell_type": "markdown",
      "metadata": {
        "id": "THSPvurhMIVK"
      },
      "source": [
        "Clearly, **Lambda 1 and Lambda 2 are not equal, so some major event occured which increased the number of messages**."
      ]
    },
    {
      "cell_type": "code",
      "metadata": {
        "id": "DgNkjkmO1h4I"
      },
      "source": [
        "# tau_samples, lambda_1_samples, lambda_2_samples contain\n",
        "# N samples from the corresponding posterior distribution\n",
        "\n",
        "N_ = tau_samples.shape[0]\n",
        "expected_texts_per_day = tf.zeros((N_, count_data.shape[0])) #(10000,74)\n",
        "\n",
        "plt.figure(figsize=(18, 9))\n",
        "\n",
        "day_range = tf.range(0, count_data.shape[0],delta=1,dtype = tf.int32)\n",
        "\n",
        "# expand from shape of 74 to (10000,74)\n",
        "day_range = tf.expand_dims(day_range,0)\n",
        "day_range = tf.tile(day_range,tf.constant([N_,1]))\n",
        "\n",
        "# expand from shape of 10000 to 10000,74\n",
        "tau_samples_per_day = tf.expand_dims(tau_samples,0)\n",
        "tau_samples_per_day = tf.transpose(tf.tile(tau_samples_per_day,tf.constant([day_range.shape[1],1])))\n",
        "\n",
        "tau_samples_per_day = tf.cast(tau_samples_per_day,dtype=tf.int32)\n",
        "#ix_day is (10000,74) tensor where axis=0 is number of samples, axis=1 is day. each value is true iff sampleXday value is < tau_sample value\n",
        "ix_day = day_range < tau_samples_per_day\n",
        "\n",
        "lambda_1_samples_per_day = tf.expand_dims(lambda_1_samples,0)\n",
        "lambda_1_samples_per_day = tf.transpose(tf.tile(lambda_1_samples_per_day,tf.constant([day_range.shape[1],1])))\n",
        "lambda_2_samples_per_day = tf.expand_dims(lambda_2_samples,0)\n",
        "lambda_2_samples_per_day = tf.transpose(tf.tile(lambda_2_samples_per_day,tf.constant([day_range.shape[1],1])))\n",
        "\n",
        "expected_texts_per_day = ((tf.reduce_sum(lambda_1_samples_per_day*tf.cast(ix_day,dtype=tf.float32),axis=0) + \n",
        "                           tf.reduce_sum(lambda_2_samples_per_day*tf.cast(~ix_day,dtype=tf.float32),axis=0))/N_)\n",
        "\n",
        "plt.plot(range(count_data.shape[0]), expected_texts_per_day, lw=4, color=\"#E24A33\",\n",
        "         label=\"expected number of text-messages received\")\n",
        "plt.xlim(0, count_data.shape[0])\n",
        "plt.xlabel(\"Day\")\n",
        "plt.ylabel(\"Expected # text-messages\")\n",
        "plt.title(\"Expected number of text-messages received\")\n",
        "plt.ylim(0, 60)\n",
        "plt.bar(np.arange(len(count_data)), count_data, color=\"#5DA5DA\", alpha=0.65, label=\"observed texts per day\")\n",
        "\n",
        "plt.legend(loc=\"upper left\");"
      ],
      "execution_count": null,
      "outputs": []
    },
    {
      "cell_type": "markdown",
      "metadata": {
        "id": "cgCrDy8M3IZT"
      },
      "source": [
        "Even in the very noisy data, our model has found a change in the parameter values, with reasonable confidence. This seems an impressive deal and a very explainable achievement in AI."
      ]
    },
    {
      "cell_type": "markdown",
      "metadata": {
        "id": "cwUztUsQNkuc"
      },
      "source": [
        "This tutorial has been adapted from https://colab.research.google.com/github/CamDavidsonPilon/Probabilistic-Programming-and-Bayesian-Methods-for-Hackers/blob/master/Chapter1_Introduction/Ch1_Introduction_TFP.ipynb.\n",
        "\n",
        "The data is the real text message count of the author. The 45th day, where we see the switch of our Bayesian switchpoint model, is infact Christmas, when he moved to Toronto and texts to his girlfriend back home in the US increased."
      ]
    }
  ]
}