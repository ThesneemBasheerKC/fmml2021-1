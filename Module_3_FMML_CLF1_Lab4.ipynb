{
  "nbformat": 4,
  "nbformat_minor": 0,
  "metadata": {
    "kernelspec": {
      "language": "python",
      "display_name": "Python 3",
      "name": "python3"
    },
    "language_info": {
      "pygments_lexer": "ipython3",
      "nbconvert_exporter": "python",
      "version": "3.6.4",
      "file_extension": ".py",
      "codemirror_mode": {
        "name": "ipython",
        "version": 3
      },
      "name": "python",
      "mimetype": "text/x-python"
    },
    "colab": {
      "name": "FMML_CLF1_Lab4.ipynb",
      "provenance": [],
      "collapsed_sections": [],
      "include_colab_link": true
    }
  },
  "cells": [
    {
      "cell_type": "markdown",
      "metadata": {
        "id": "view-in-github",
        "colab_type": "text"
      },
      "source": [
        "<a href=\"https://colab.research.google.com/github/Fathimath-Rifna-VK/fmml2021/blob/main/Module_3_FMML_CLF1_Lab4.ipynb\" target=\"_parent\"><img src=\"https://colab.research.google.com/assets/colab-badge.svg\" alt=\"Open In Colab\"/></a>"
      ]
    },
    {
      "cell_type": "markdown",
      "metadata": {
        "_uuid": "8f2839f25d086af736a60e9eeb907d3b93b6e0e5",
        "_cell_guid": "b1076dfc-b9ad-4769-8c92-a6c4dae69d19",
        "trusted": true,
        "id": "unG213zJhFsx"
      },
      "source": [
        "# **FOUNDATIONS OF MODERN MACHINE LEARNING, IIIT Hyderabad**\n",
        "### MODULE: CLASSIFICATION-1\n",
        "### LAB-4 : Appreciating Feature Scaling and Standardization\n",
        "#### Teaching Assistant: Sahil Bhatt\n",
        "\n",
        "NOTE: YOU ONLY NEED TO MAKE CHANGES/WRITE CODE IN CELLS THAT SPECIFICALLY MENTION TASK-1, TASK-2, etc.\n",
        "\n",
        "WRITE ANY OBSERVATION(S), IF REQUIRED BY THE TASK, IN A SEPARATE CELL AT THE BOTTOM OF THE NOTEBOOK.  \n",
        "\n",
        "---"
      ]
    },
    {
      "cell_type": "markdown",
      "metadata": {
        "_uuid": "d629ff2d2480ee46fbb7e2d37f6b5fab8052498a",
        "collapsed": true,
        "_cell_guid": "79c7e3d0-c299-4dcb-8224-4455121ee9b0",
        "trusted": false,
        "id": "1YbIjlgrhFsz"
      },
      "source": [
        "## Binary Classification Task: Diabetes Dataset\n",
        "\n",
        "We’ll be using ML techniques learnt uptil now to predict whether a Pima Indian Woman has diabetes or not, based on information about the patient such as blood pressure, body mass index (BMI), age, etc. \n",
        "\n"
      ]
    },
    {
      "cell_type": "markdown",
      "metadata": {
        "id": "BcQGSOFchFs0"
      },
      "source": [
        "# Introduction\n",
        "\n",
        "Scientists carried out a study to investigate the significance of health-related predictors of diabetes in **Pima Indian Women**. The study population was the females 21 years and above of Pima Indian heritage patients of diabetes and digestive and kidney diseases. \n",
        "\n",
        "The research question was: what are the health predictions that associated with the presence of diabetes in Pima Indians? \n",
        "\n",
        "The study aimed at testing the significance of health-related predictors of diabetes in Pima Indians women.\n",
        "\n",
        "To find the reason behind this, we have to find whether there is a relationship between the numbers of times a women was pregnant and the BMIs of Pima Indian Women older than 21 years old, or whether the women have diabetes and their diabetes pedigree function (a function that represents how likely they are to get the disease by extrapolating from their ancestor’s history)."
      ]
    },
    {
      "cell_type": "markdown",
      "metadata": {
        "id": "OQIjzjdvhFs1"
      },
      "source": [
        "## Exploratory Data Analysis (EDA) and Statistical Analysis"
      ]
    },
    {
      "cell_type": "markdown",
      "metadata": {
        "id": "RBuD7M7yhFs1"
      },
      "source": [
        "## Import Libraries"
      ]
    },
    {
      "cell_type": "code",
      "metadata": {
        "trusted": true,
        "id": "-61IRwW9hFs2"
      },
      "source": [
        "import numpy as np\n",
        "import pandas as pd\n",
        "import matplotlib.pyplot as plt\n",
        "import seaborn as sns\n",
        "%matplotlib inline\n",
        "\n",
        "sns.set_style('whitegrid')\n",
        "\n",
        "import warnings\n",
        "warnings.filterwarnings('ignore')"
      ],
      "execution_count": null,
      "outputs": []
    },
    {
      "cell_type": "markdown",
      "metadata": {
        "id": "5PsuSvHBhFs2"
      },
      "source": [
        "## Importing the dataset"
      ]
    },
    {
      "cell_type": "code",
      "metadata": {
        "id": "su9YeUtjx7Vt"
      },
      "source": [
        "!gdown --id 1WVKhG73-JFvXdlerXQcgqPqsXO1_PeGl"
      ],
      "execution_count": null,
      "outputs": []
    },
    {
      "cell_type": "code",
      "metadata": {
        "trusted": true,
        "id": "jD3AJ4bMhFs2"
      },
      "source": [
        "diabetes_data = pd.read_csv('preprocessed_diabetes_data.csv')"
      ],
      "execution_count": null,
      "outputs": []
    },
    {
      "cell_type": "code",
      "metadata": {
        "trusted": true,
        "id": "QHXBgngihFs3"
      },
      "source": [
        "# View top 10 rows of the Diabetes dataset\n",
        "diabetes_data.head(10)"
      ],
      "execution_count": null,
      "outputs": []
    },
    {
      "cell_type": "markdown",
      "metadata": {
        "id": "Sp-JWCiPhFs3"
      },
      "source": [
        "## Identification of variables and data types"
      ]
    },
    {
      "cell_type": "code",
      "metadata": {
        "trusted": true,
        "id": "Dxb4gUfwhFs3"
      },
      "source": [
        "diabetes_data.shape"
      ],
      "execution_count": null,
      "outputs": []
    },
    {
      "cell_type": "markdown",
      "metadata": {
        "id": "5arc6ZbOhFs3"
      },
      "source": [
        "Dataset comprises of 768 observations and 9 fields.\n",
        "\n",
        "The following features have been provided to help us predict whether a person is diabetic or not:\n",
        "\n",
        "* **Pregnancies:** Number of times pregnant\n",
        "* **Glucose:** Plasma glucose concentration over 2 hours in an oral glucose tolerance test. Less than 140 mg/dL is considered normal level of glucose.\n",
        "* **BloodPressure:** Diastolic blood pressure (mm Hg). 120/80 is normal BP level for female above 18 yr old.\n",
        "* **SkinThickness:** Triceps skin fold thickness (mm)\n",
        "* **Insulin:** 2-Hour serum insulin (mu U/ml). 16-166 mIU/L is considered the normal level of insulin.\n",
        "* **BMI:** Body mass index (weight in kg/(height in m)2)\n",
        "* **DiabetesPedigreeFunction:** Diabetes pedigree function (a function which scores likelihood of diabetes based on family history)\n",
        "* **Age:** Age (years)\n",
        "* **Outcome:** Class variable (0 if non-diabetic, 1 if diabetic)\n",
        "\n",
        "\n",
        "Let’s also make sure that our data is clean (has no null values, etc)."
      ]
    },
    {
      "cell_type": "code",
      "metadata": {
        "trusted": true,
        "id": "kKH8cPIBhFs4"
      },
      "source": [
        "# Get the details of each column\n",
        "diabetes_data.describe().T"
      ],
      "execution_count": null,
      "outputs": []
    },
    {
      "cell_type": "markdown",
      "metadata": {
        "id": "6v_JcMPYhFs6"
      },
      "source": [
        "Let us see distribution and also boxplot for outliers of feature \"Pregnancies\"."
      ]
    },
    {
      "cell_type": "code",
      "metadata": {
        "trusted": true,
        "cellView": "form",
        "id": "jh9KHJcEhFs6"
      },
      "source": [
        "#@title\n",
        "fig,axes = plt.subplots(nrows=1,ncols=2,figsize = (8,6))\n",
        "\n",
        "plot00=sns.distplot(diabetes_data['Pregnancies'],ax=axes[0],color='b')\n",
        "axes[0].set_title('Distribution of Pregnancy',fontdict={'fontsize':8})\n",
        "axes[0].set_xlabel('No of Pregnancies')\n",
        "axes[0].set_ylabel('Frequency')\n",
        "plt.tight_layout()\n",
        "\n",
        "\n",
        "plot01=sns.boxplot('Pregnancies',data=diabetes_data,ax=axes[1],orient = 'v', color='r')\n",
        "plt.tight_layout()"
      ],
      "execution_count": null,
      "outputs": []
    },
    {
      "cell_type": "markdown",
      "metadata": {
        "id": "PnRYznyBhFs8"
      },
      "source": [
        "<p style=\"font-weight: bold;color:#FF4500\">Highlights</p>\n",
        "* It seems that Insulin is highly correlated with Glucose (about 0.58), BMI (about 0.23) and Age (about 0.22). It means that as the values of glucose, BMI and Age increase, the insuline is also increasing. It seems logical also that fat and aged people might have high level of insuline in their bodies.\n",
        "* In the same way SkinThickness is highly correlated with BMI (about 0.65)."
      ]
    },
    {
      "cell_type": "markdown",
      "metadata": {
        "id": "ibQhQ3qihFs-"
      },
      "source": [
        "## Checking  balance of data\n",
        "\n",
        "We can produce a seaborn count plot to see how the output is dominated by one of the classes or not."
      ]
    },
    {
      "cell_type": "code",
      "metadata": {
        "trusted": true,
        "id": "5Vo4IoVfhFs-"
      },
      "source": [
        "plt.figure(figsize=(12,6))\n",
        "sns.countplot(x='Outcome',data=diabetes_data, palette='bright')\n",
        "plt.title(\"Emergency call category\")\n",
        "\n",
        "print(diabetes_data['Outcome'].value_counts())"
      ],
      "execution_count": null,
      "outputs": []
    },
    {
      "cell_type": "markdown",
      "metadata": {
        "id": "jsO1fRfGhFs_"
      },
      "source": [
        "<p style=\"font-weight: bold;color:#FF4500\">Highlights</p>\n",
        "A total of 768 women were registered in the database. 268 womens about 35% were having diabetes, while 500 women about 65% were not. \n",
        "\n",
        "The above graph shows that the dataset is biased towards non-diabetic patient. The number of non-diabetics is almost twice the number of diabetic patients."
      ]
    },
    {
      "cell_type": "markdown",
      "metadata": {
        "id": "ZLZVGWpUhFs_"
      },
      "source": [
        "## Scatter matrix of data"
      ]
    },
    {
      "cell_type": "code",
      "metadata": {
        "trusted": true,
        "id": "LXD7RCUjhFs_"
      },
      "source": [
        "sns.pairplot(diabetes_data,hue='Outcome')"
      ],
      "execution_count": null,
      "outputs": []
    },
    {
      "cell_type": "markdown",
      "metadata": {
        "id": "0XCAbJuehFs_"
      },
      "source": [
        "<p style=\"font-weight: bold;color:#FF4500\">Highlights</p>\n",
        "The pairs plot builds on two basic figures, the histogram and the scatter plot. The histogram on the diagonal allows us to see the distribution of a single variable while the scatter plots on the upper and lower triangles show the relationship (or lack thereof) between two variables."
      ]
    },
    {
      "cell_type": "code",
      "metadata": {
        "trusted": true,
        "cellView": "form",
        "id": "1C9GazEwhFtA"
      },
      "source": [
        "#@title\n",
        "plt.figure(figsize=(12,8))\n",
        "sns.boxplot(x='Outcome', y='BMI',data=diabetes_data, hue='Outcome')"
      ],
      "execution_count": null,
      "outputs": []
    },
    {
      "cell_type": "markdown",
      "metadata": {
        "id": "-zeDFUjIhFtA"
      },
      "source": [
        "<p style=\"font-weight: bold;color:#FF4500\">Highlights</p>\n",
        "\n",
        "It is surprising that the median BMI does not immensely change as the number of pregnancies increases. I expected there to be a strong positive relationship between the number of pregnancies and the BMI. Those who tested positive for diabetes had higher BMIs than those who does not; yet, not a larger difference between the medians.\n",
        "\n",
        "BMI will generally be higher for women who have had more numbers of pregnancy as well as for those who test positive for diabetes and that the relationship between the pedigree function and the test results will show that those who had a higher pedigree function tested positive and those who had a lower pedigree function tested negative."
      ]
    },
    {
      "cell_type": "markdown",
      "metadata": {
        "id": "5TVSVM2qhFtA"
      },
      "source": [
        "## Pedigree function vs Diabetes "
      ]
    },
    {
      "cell_type": "markdown",
      "metadata": {
        "id": "EnRxDLryhFtB"
      },
      "source": [
        "<p style=\"font-weight: bold;color:#FF4500\">Highlights</p>\n",
        "This graph more clearly shows the relationship between the pedigree function and the test results that the women got for diabetes. Since those who tested positive have a higher median and more high outliers, it is clear that the pedigree function does in fact, accurately help estimate the test results for diabetes. It shows that diabetes does follow genetics so those whose ancestors suffered from it have a higher risk of getting the disease themselves as well. Both test results show many outliers yet the outliers for those who tested negative seem to be lower pedigree functions than those who tested positive. This concluded that the genetic component is likely to contribute more to the emergence of diabetes in the Pima Indians and their offspring."
      ]
    },
    {
      "cell_type": "markdown",
      "metadata": {
        "id": "Haicc9d0hFtB"
      },
      "source": [
        "## Pregnancy vs Diabetes"
      ]
    },
    {
      "cell_type": "markdown",
      "metadata": {
        "id": "IR5LPr3phFtC"
      },
      "source": [
        "<p style=\"font-weight: bold;color:#FF4500\">Highlights</p>\n",
        "The average number of pregnancies is higher (4.9) in diabetic in comparing to (3.3) in non-diabetic women with a significant difference between them."
      ]
    },
    {
      "cell_type": "markdown",
      "metadata": {
        "id": "dmvNQIOFhFtC"
      },
      "source": [
        "## Diabetic in Normal BMI\n",
        "\n",
        "Let try to find out how is the probabiliy of having diabetic in a women having normal BMI. Please note that the range of normal BMI is 18.5 to 25."
      ]
    },
    {
      "cell_type": "code",
      "metadata": {
        "trusted": true,
        "cellView": "form",
        "id": "3kCMTdmGhFtC"
      },
      "source": [
        "#@title\n",
        "normalBMIData = diabetes_data[(diabetes_data['BMI'] >= 18.5) & (diabetes_data['BMI'] <= 25)]\n",
        "normalBMIData['Outcome'].value_counts()"
      ],
      "execution_count": null,
      "outputs": []
    },
    {
      "cell_type": "code",
      "metadata": {
        "trusted": true,
        "cellView": "form",
        "id": "Z--JC25ehFtC"
      },
      "source": [
        "#@title\n",
        "notNormalBMIData = diabetes_data[(diabetes_data['BMI'] < 18.5) | (diabetes_data['BMI'] > 25)]\n",
        "notNormalBMIData['Outcome'].value_counts()"
      ],
      "execution_count": null,
      "outputs": []
    },
    {
      "cell_type": "code",
      "metadata": {
        "trusted": true,
        "cellView": "form",
        "id": "wrdJR1wkhFtD"
      },
      "source": [
        "#@title\n",
        "plt.figure(figsize=(12,8))\n",
        "sns.boxplot(x='Outcome', y='BMI',data=notNormalBMIData)"
      ],
      "execution_count": null,
      "outputs": []
    },
    {
      "cell_type": "markdown",
      "metadata": {
        "id": "u8D7KzjphFtD"
      },
      "source": [
        "<p style=\"font-weight: bold;color:#FF4500\">Highlights</p>\n",
        "\n",
        "The Body Mass Index (BMI) showed a significant association with the occurrence of diabetes and that even the normal weighted women were at almost 9 times risk of being diabetic in comparison to the overweight.\n",
        "\n",
        "In addition, the interquartile range for the women who tested positive reaches a higher BMI than the IQR for those who tested negative. Therefore, women could have higher BMIs and not be outliers if they tested positive as opposed to negative, showing that more women who tested positive did, in fact, have higher BMIs than those who tested negative. \n"
      ]
    },
    {
      "cell_type": "markdown",
      "metadata": {
        "id": "f1_nVeb8hFtD"
      },
      "source": [
        "## Age vs Diabetes"
      ]
    },
    {
      "cell_type": "markdown",
      "metadata": {
        "id": "skK67P9mhFtE"
      },
      "source": [
        "<p style=\"font-weight: bold;color:#FF4500\">Highlights</p>\n",
        "Significant relation can be seen between the age distribution and diabetic occurrence. Women at age group > 31 years were at higher risk to contract diabetes in comparison to the younger age group."
      ]
    },
    {
      "cell_type": "markdown",
      "metadata": {
        "id": "MKo2iJYbhFtE"
      },
      "source": [
        "# The Importance of Standardizing Data"
      ]
    },
    {
      "cell_type": "code",
      "metadata": {
        "trusted": true,
        "id": "DfNzaXgJhFtF"
      },
      "source": [
        "unchanged_data = diabetes_data.drop('Outcome',axis=1)"
      ],
      "execution_count": null,
      "outputs": []
    },
    {
      "cell_type": "code",
      "metadata": {
        "id": "69yA8N2xp8w-"
      },
      "source": [
        "unchanged_data"
      ],
      "execution_count": null,
      "outputs": []
    },
    {
      "cell_type": "code",
      "metadata": {
        "trusted": true,
        "id": "j78tjiVkhFtG"
      },
      "source": [
        "from sklearn.model_selection import train_test_split"
      ],
      "execution_count": null,
      "outputs": []
    },
    {
      "cell_type": "code",
      "metadata": {
        "id": "e_lGuVYyI0wj"
      },
      "source": [
        "from sklearn.metrics import classification_report,confusion_matrix\n",
        "from sklearn.neighbors import KNeighborsClassifier"
      ],
      "execution_count": null,
      "outputs": []
    },
    {
      "cell_type": "markdown",
      "metadata": {
        "id": "j0AsnKb-hFtI"
      },
      "source": [
        "# Choosing a K Value\n",
        "Let's go ahead and use the elbow method to pick a good K Value!\n",
        "\n",
        "*Create a for loop that trains various KNN models with different k values, then keep track of the error_rate for each of these models with a list.*"
      ]
    },
    {
      "cell_type": "code",
      "metadata": {
        "id": "WBciXF40Jzoh"
      },
      "source": [
        "def plot_KNN_error_rate(xdata,ydata):\n",
        "  error_rate = []\n",
        "  test_scores = []\n",
        "  train_scores = []\n",
        "\n",
        "  X_train, X_test, y_train, y_test = train_test_split(xdata,ydata,test_size=0.30,random_state=101)\n",
        "  \n",
        "  for i in range(1,40):\n",
        "      knn = KNeighborsClassifier(n_neighbors=i)\n",
        "      knn.fit(X_train,y_train)\n",
        "      pred_i = knn.predict(X_test)\n",
        "      \n",
        "      error_rate.append(np.mean(pred_i != y_test))\n",
        "      train_scores.append(knn.score(X_train,y_train))\n",
        "      test_scores.append(knn.score(X_test,y_test))\n",
        "\n",
        "  plt.figure(figsize=(12,8))\n",
        "  plt.plot(range(1,40),error_rate,color='blue', linestyle='dashed', marker='o',\n",
        "          markerfacecolor='red', markersize=10)\n",
        "  plt.title('Error Rate vs. K Value')\n",
        "  plt.xlabel('K')\n",
        "  plt.ylabel('Error Rate')\n",
        "  print()\n",
        "  ## score that comes from testing on the same datapoints that were used for training\n",
        "  max_train_score = max(train_scores)\n",
        "  train_scores_ind = [i for i, v in enumerate(train_scores) if v == max_train_score]\n",
        "  print('Max train score {} % and k = {}'.format(max_train_score*100,list(map(lambda x: x+1, train_scores_ind))))\n",
        "  print()\n",
        "  ## score that comes from testing on the datapoints that were split in the beginning to be used for testing solely\n",
        "  max_test_score = max(test_scores)\n",
        "  test_scores_ind = [i for i, v in enumerate(test_scores) if v == max_test_score]\n",
        "  print('Max test score {} % and k = {}'.format(max_test_score*100,list(map(lambda x: x+1, test_scores_ind))))\n",
        "\n",
        "  return test_scores"
      ],
      "execution_count": null,
      "outputs": []
    },
    {
      "cell_type": "code",
      "metadata": {
        "id": "8Rj96qrEOKVw"
      },
      "source": [
        "unchanged_test_scores = plot_KNN_error_rate(unchanged_data,diabetes_data['Outcome'])"
      ],
      "execution_count": null,
      "outputs": []
    },
    {
      "cell_type": "markdown",
      "metadata": {
        "id": "5OZFsqr1hFtE"
      },
      "source": [
        "## Standardize the Variables\n",
        "Standardization (also called z-score normalization) is the process of putting different variables on the same scale. Standardization transforms your data such that the resulting distribution has a mean of 0 and a standard deviation of 1. \n",
        "\n",
        "$$ Z = {X - \\mu \\over \\sigma}$$ \n"
      ]
    },
    {
      "cell_type": "code",
      "metadata": {
        "trusted": true,
        "id": "kgZdXekchFtE"
      },
      "source": [
        "from sklearn.preprocessing import StandardScaler\n",
        "scaler = StandardScaler()"
      ],
      "execution_count": null,
      "outputs": []
    },
    {
      "cell_type": "code",
      "metadata": {
        "trusted": true,
        "id": "0hyAXJ_vhFtF"
      },
      "source": [
        "scaler.fit(diabetes_data.drop('Outcome',axis=1))"
      ],
      "execution_count": null,
      "outputs": []
    },
    {
      "cell_type": "code",
      "metadata": {
        "id": "y6dMR3MJFFdA"
      },
      "source": [
        "scaled_data = scaler.transform(diabetes_data.drop('Outcome',axis=1))"
      ],
      "execution_count": null,
      "outputs": []
    },
    {
      "cell_type": "code",
      "metadata": {
        "trusted": true,
        "id": "OFANLGLuhFtF"
      },
      "source": [
        "df_feat = pd.DataFrame(scaled_data,columns=diabetes_data.columns[:-1])\n",
        "df_feat.head()"
      ],
      "execution_count": null,
      "outputs": []
    },
    {
      "cell_type": "code",
      "metadata": {
        "id": "fwuhzRarQRRQ"
      },
      "source": [
        "scaled_test_scores = plot_KNN_error_rate(scaled_data,diabetes_data['Outcome'])"
      ],
      "execution_count": null,
      "outputs": []
    },
    {
      "cell_type": "code",
      "metadata": {
        "id": "eth4SdVDYJbI"
      },
      "source": [
        "from sklearn.preprocessing import Normalizer\n",
        "l2_normalizer = Normalizer()"
      ],
      "execution_count": null,
      "outputs": []
    },
    {
      "cell_type": "code",
      "metadata": {
        "id": "Qr6pPwpKYRi0"
      },
      "source": [
        "l2_normalizer.fit(diabetes_data.drop('Outcome',axis=1))\n",
        "l2_normalized_data = l2_normalizer.transform(diabetes_data.drop('Outcome',axis=1))"
      ],
      "execution_count": null,
      "outputs": []
    },
    {
      "cell_type": "code",
      "metadata": {
        "id": "5UuVelMQYeHR"
      },
      "source": [
        "df_feat = pd.DataFrame(l2_normalized_data,columns=diabetes_data.columns[:-1])\n",
        "df_feat.head()"
      ],
      "execution_count": null,
      "outputs": []
    },
    {
      "cell_type": "code",
      "metadata": {
        "id": "-rnZVk30YiZw"
      },
      "source": [
        "l2_normalized_test_scores = plot_KNN_error_rate(l2_normalized_data,diabetes_data['Outcome'])"
      ],
      "execution_count": null,
      "outputs": []
    },
    {
      "cell_type": "code",
      "metadata": {
        "id": "oxoLuSzbZHvp"
      },
      "source": [
        "l1_normalizer = Normalizer(norm='l1')\n",
        "l1_normalizer.fit(diabetes_data.drop('Outcome',axis=1))\n",
        "l1_normalized_data = l1_normalizer.transform(diabetes_data.drop('Outcome',axis=1))\n",
        "l1_normalized_test_scores = plot_KNN_error_rate(l1_normalized_data,diabetes_data['Outcome'])"
      ],
      "execution_count": null,
      "outputs": []
    },
    {
      "cell_type": "markdown",
      "metadata": {
        "id": "WoBBRF8FRkrV"
      },
      "source": [
        "## Comparing Accuracy before and after Standardization"
      ]
    },
    {
      "cell_type": "code",
      "metadata": {
        "id": "M9uVwaaBQ7RE"
      },
      "source": [
        "plt.figure(figsize=(20,8))\n",
        "plt.title('Accuracy vs. K Value')\n",
        "sns.lineplot(range(1,40),unchanged_test_scores,marker='o',label='Unscaled data test score')\n",
        "sns.lineplot(range(1,40),scaled_test_scores,marker='o',label='Scaled data test Score')\n",
        "sns.lineplot(range(1,40),l2_normalized_test_scores,marker='o',label='L2 normalized data test Score')\n",
        "sns.lineplot(range(1,40),l1_normalized_test_scores,marker='o',label='L1 normalized data test Score')"
      ],
      "execution_count": null,
      "outputs": []
    },
    {
      "cell_type": "code",
      "metadata": {
        "id": "EpfnrqpjA3xt"
      },
      "source": [
        ""
      ],
      "execution_count": null,
      "outputs": []
    },
    {
      "cell_type": "markdown",
      "metadata": {
        "id": "Mj2xeXZthFtM"
      },
      "source": [
        "# Conclusion\n",
        "\n",
        "Overall, it seems that there is some form of an association between BMI, number of pregnancies, pedigree function, and the test results for diabetes. It is surprising that the median BMI does not immensely change as the number of pregnancies increases. I expected there to be a strong positive relationship between the number of pregnancies and the BMI. Those who tested positive for diabetes had higher BMIs than those who did not; yet, I predicted a larger difference between the medians.\n",
        "\n",
        "To find the relationship between the pedigree function and the test results, it would be interesting to also have males and those under 21 as well as 21 in the sample. That way, possible confounding variables such as a hormone that only females have that may cause diabetes, can be eliminated."
      ]
    },
    {
      "cell_type": "markdown",
      "metadata": {
        "id": "aubGhsTSjJLM"
      },
      "source": [
        "# References"
      ]
    },
    {
      "cell_type": "markdown",
      "metadata": {
        "id": "XehDqRkdjN0_"
      },
      "source": [
        "https://www.kaggle.com/dktalaicha/diabetes-prediction-by-knn"
      ]
    }
  ]
}