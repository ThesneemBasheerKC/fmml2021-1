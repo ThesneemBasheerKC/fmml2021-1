{
  "nbformat": 4,
  "nbformat_minor": 0,
  "metadata": {
    "colab": {
      "name": "FMML_Lab2.ipynb",
      "provenance": [],
      "include_colab_link": true
    },
    "kernelspec": {
      "name": "python3",
      "display_name": "Python 3"
    },
    "language_info": {
      "name": "python"
    }
  },
  "cells": [
    {
      "cell_type": "markdown",
      "metadata": {
        "id": "view-in-github",
        "colab_type": "text"
      },
      "source": [
        "<a href=\"https://colab.research.google.com/github/Fathimath-Rifna-VK/fmml2021/blob/main/Module_5_FMML_Lab2.ipynb\" target=\"_parent\"><img src=\"https://colab.research.google.com/assets/colab-badge.svg\" alt=\"Open In Colab\"/></a>"
      ]
    },
    {
      "cell_type": "code",
      "metadata": {
        "id": "6fxSh2azDWVV"
      },
      "source": [
        "import numpy as np\n",
        "from matplotlib import pyplot as plt\n",
        "%matplotlib inline"
      ],
      "execution_count": null,
      "outputs": []
    },
    {
      "cell_type": "markdown",
      "metadata": {
        "id": "tT5y5bqvEAKn"
      },
      "source": [
        "First we need to define a labeled data set."
      ]
    },
    {
      "cell_type": "code",
      "metadata": {
        "id": "CGK5WP6WDZrz"
      },
      "source": [
        "X = np.array([\n",
        "    [-2, 4],\n",
        "    [4, 1],\n",
        "    [1, 6],\n",
        "    [2, 4],\n",
        "    [6, 2]\n",
        "])"
      ],
      "execution_count": null,
      "outputs": []
    },
    {
      "cell_type": "markdown",
      "metadata": {
        "id": "uWsK5zfpELdk"
      },
      "source": [
        "Next we need to add a bias term -1 into the data set."
      ]
    },
    {
      "cell_type": "code",
      "metadata": {
        "id": "9HhJXqTkDbl_"
      },
      "source": [
        "X = np.array([\n",
        "    [-2,4,-1],\n",
        "    [4,1,-1],\n",
        "    [1, 6, -1],\n",
        "    [2, 4, -1],\n",
        "    [6, 2, -1],\n",
        "\n",
        "])"
      ],
      "execution_count": null,
      "outputs": []
    },
    {
      "cell_type": "code",
      "metadata": {
        "id": "EeMQDzjjDeyE"
      },
      "source": [
        "y = np.array([-1,-1,1,1,1])"
      ],
      "execution_count": null,
      "outputs": []
    },
    {
      "cell_type": "markdown",
      "metadata": {
        "id": "jGaici2BEVZ3"
      },
      "source": [
        "This small toy data set contains two samples labeled with −1 and three samples labeled with +1. This means we have a binary classification problem, as the data set contains two sample classes. Lets plot the dataset to see, that is is linearly seperable"
      ]
    },
    {
      "cell_type": "code",
      "metadata": {
        "id": "czogKw6ADgbt"
      },
      "source": [
        "for d, sample in enumerate(X):\n",
        "    # Plot the negative samples\n",
        "    if d < 2:\n",
        "        plt.scatter(sample[0], sample[1], s=120, marker='_', linewidths=2)\n",
        "    # Plot the positive samples\n",
        "    else:\n",
        "        plt.scatter(sample[0], sample[1], s=120, marker='+', linewidths=2)\n",
        "\n",
        "# Print a possible hyperplane, that is seperating the two classes.\n",
        "plt.plot([-2,6],[6,0.5])"
      ],
      "execution_count": null,
      "outputs": []
    },
    {
      "cell_type": "markdown",
      "metadata": {
        "id": "lWlVB486EY8e"
      },
      "source": [
        "Finally we can code our Perceptron algorithm using our update rule. To keep it simple, we will linearly loop over the sample set. For larger data sets it makes sence, to randomly pick a sample during each iteration in the for-loop."
      ]
    },
    {
      "cell_type": "code",
      "metadata": {
        "id": "ltJYDYNIDjLl"
      },
      "source": [
        "def perceptron_algo(X, Y):\n",
        "    w = np.zeros(len(X[0]))\n",
        "    eta = 1\n",
        "    epochs = 10\n",
        "\n",
        "    for epoch in range(epochs):\n",
        "        for i, x in enumerate(X):\n",
        "            if (np.dot(X[i], w)*Y[i]) <= 0:\n",
        "                w = w + eta*X[i]*Y[i]\n",
        "    return w"
      ],
      "execution_count": null,
      "outputs": []
    },
    {
      "cell_type": "code",
      "metadata": {
        "id": "wV0oQoHEDl9e"
      },
      "source": [
        "def perceptron_algo_plot(X, Y):\n",
        "    '''\n",
        "    train perceptron and plot the total loss in each epoch.\n",
        "    \n",
        "    :param X: data samples\n",
        "    :param Y: data labels\n",
        "    :return: weight vector as a numpy array\n",
        "    '''\n",
        "    w = np.zeros(len(X[0]))\n",
        "    eta = 1\n",
        "    n = 30\n",
        "    errors = []\n",
        "\n",
        "    for t in range(n):\n",
        "        total_error = 0\n",
        "        for i, x in enumerate(X):\n",
        "            if (np.dot(X[i], w)*Y[i]) <= 0:\n",
        "                total_error += (np.dot(X[i], w)*Y[i])\n",
        "                w = w + eta*X[i]*Y[i]\n",
        "        errors.append(total_error*-1)\n",
        "        \n",
        "    plt.plot(errors)\n",
        "    plt.xlabel('Epoch')\n",
        "    plt.ylabel('Total Loss')\n",
        "    \n",
        "    return w"
      ],
      "execution_count": null,
      "outputs": []
    },
    {
      "cell_type": "code",
      "metadata": {
        "id": "EdhdZH5eDtBE"
      },
      "source": [
        "print(perceptron_algo_plot(X,y))"
      ],
      "execution_count": null,
      "outputs": []
    },
    {
      "cell_type": "code",
      "metadata": {
        "id": "Rwn0luhQDwWt"
      },
      "source": [
        "for d, sample in enumerate(X):\n",
        "    # Plot the negative samples\n",
        "    if d < 2:\n",
        "        plt.scatter(sample[0], sample[1], s=120, marker='_', linewidths=2)\n",
        "    # Plot the positive samples\n",
        "    else:\n",
        "        plt.scatter(sample[0], sample[1], s=120, marker='+', linewidths=2)\n",
        "\n",
        "# Add our test samples\n",
        "\n",
        "plt.scatter(2,2, s=120, marker='_', linewidths=2, color='yellow')\n",
        "plt.scatter(4,3, s=120, marker='+', linewidths=2, color='blue')\n",
        "\n",
        "# Print the hyperplane calculated by perceptron_sgd()\n",
        "x2=[w[0],w[1],-w[1],w[0]]\n",
        "x3=[w[0],w[1],w[1],-w[0]]\n",
        "\n",
        "x2x3 =np.array([x2,x3])\n",
        "X,Y,U,V = zip(*x2x3)\n",
        "ax = plt.gca()\n",
        "ax.quiver(X,Y,U,V,scale=1, color='blue')"
      ],
      "execution_count": null,
      "outputs": []
    },
    {
      "cell_type": "code",
      "metadata": {
        "id": "-sMCUrcdDzOB"
      },
      "source": [
        ""
      ],
      "execution_count": null,
      "outputs": []
    },
    {
      "cell_type": "markdown",
      "metadata": {
        "id": "UfIJfBzXus1j"
      },
      "source": [
        "## Show boundary updates"
      ]
    },
    {
      "cell_type": "code",
      "metadata": {
        "id": "03MV3sxgEoXb"
      },
      "source": [
        ""
      ],
      "execution_count": null,
      "outputs": []
    },
    {
      "cell_type": "code",
      "metadata": {
        "id": "eQN7CQ8rEoYg"
      },
      "source": [
        ""
      ],
      "execution_count": null,
      "outputs": []
    },
    {
      "cell_type": "code",
      "metadata": {
        "id": "YomBf0cTEoZq"
      },
      "source": [
        ""
      ],
      "execution_count": null,
      "outputs": []
    },
    {
      "cell_type": "code",
      "metadata": {
        "id": "FSl65H26Eobw"
      },
      "source": [
        "X = np.array([\n",
        "    [-2,4,-1],\n",
        "    [4,1,-1],\n",
        "    [1, 6, -1],\n",
        "    [2, 4, -1],\n",
        "    [6, 2, -1],\n",
        "\n",
        "])"
      ],
      "execution_count": null,
      "outputs": []
    },
    {
      "cell_type": "code",
      "metadata": {
        "id": "Y9xDT1ZhEo9_"
      },
      "source": [
        "y = np.array([-1,-1,1,-1,-1])"
      ],
      "execution_count": null,
      "outputs": []
    },
    {
      "cell_type": "code",
      "metadata": {
        "id": "y1xyTQHYEtAq"
      },
      "source": [
        "print(perceptron_algo_plot(X,y))"
      ],
      "execution_count": null,
      "outputs": []
    },
    {
      "cell_type": "code",
      "metadata": {
        "id": "69ETwDIFE35v"
      },
      "source": [
        ""
      ],
      "execution_count": null,
      "outputs": []
    }
  ]
}